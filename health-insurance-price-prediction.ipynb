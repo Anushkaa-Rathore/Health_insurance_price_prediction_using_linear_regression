{
 "cells": [
  {
   "cell_type": "code",
   "execution_count": 1,
   "id": "ae175f67",
   "metadata": {
    "_cell_guid": "b1076dfc-b9ad-4769-8c92-a6c4dae69d19",
    "_uuid": "8f2839f25d086af736a60e9eeb907d3b93b6e0e5",
    "execution": {
     "iopub.execute_input": "2022-07-11T05:56:53.835661Z",
     "iopub.status.busy": "2022-07-11T05:56:53.834843Z",
     "iopub.status.idle": "2022-07-11T05:56:53.855495Z",
     "shell.execute_reply": "2022-07-11T05:56:53.854267Z"
    },
    "papermill": {
     "duration": 0.035729,
     "end_time": "2022-07-11T05:56:53.858052",
     "exception": false,
     "start_time": "2022-07-11T05:56:53.822323",
     "status": "completed"
    },
    "tags": []
   },
   "outputs": [
    {
     "name": "stdout",
     "output_type": "stream",
     "text": [
      "/kaggle/input/health-insurance-cost-prediction/insurance.csv\n"
     ]
    }
   ],
   "source": [
    "# This Python 3 environment comes with many helpful analytics libraries installed\n",
    "# It is defined by the kaggle/python Docker image: https://github.com/kaggle/docker-python\n",
    "# For example, here's several helpful packages to load\n",
    "\n",
    "import numpy as np # linear algebra\n",
    "import pandas as pd # data processing, CSV file I/O (e.g. pd.read_csv)\n",
    "\n",
    "# Input data files are available in the read-only \"../input/\" directory\n",
    "# For example, running this (by clicking run or pressing Shift+Enter) will list all files under the input directory\n",
    "\n",
    "import os\n",
    "for dirname, _, filenames in os.walk('/kaggle/input'):\n",
    "    for filename in filenames:\n",
    "        print(os.path.join(dirname, filename))\n",
    "\n",
    "# You can write up to 20GB to the current directory (/kaggle/working/) that gets preserved as output when you create a version using \"Save & Run All\" \n",
    "# You can also write temporary files to /kaggle/temp/, but they won't be saved outside of the current session"
   ]
  },
  {
   "cell_type": "code",
   "execution_count": 2,
   "id": "42635d53",
   "metadata": {
    "execution": {
     "iopub.execute_input": "2022-07-11T05:56:53.880274Z",
     "iopub.status.busy": "2022-07-11T05:56:53.879961Z",
     "iopub.status.idle": "2022-07-11T05:56:55.035664Z",
     "shell.execute_reply": "2022-07-11T05:56:55.034701Z"
    },
    "papermill": {
     "duration": 1.16916,
     "end_time": "2022-07-11T05:56:55.037742",
     "exception": false,
     "start_time": "2022-07-11T05:56:53.868582",
     "status": "completed"
    },
    "tags": []
   },
   "outputs": [],
   "source": [
    "# Importing the required files\n",
    "\n",
    "import pandas as pd                                  # for data Manipulation\n",
    "import seaborn as sns                                # for visualization\n",
    "import matplotlib.pyplot as plt                      # for ploting the graphs and charts\n",
    "from matplotlib import style\n",
    "from sklearn.model_selection import train_test_split\n",
    "from sklearn.linear_model import LinearRegression"
   ]
  },
  {
   "cell_type": "code",
   "execution_count": 3,
   "id": "718594ab",
   "metadata": {
    "execution": {
     "iopub.execute_input": "2022-07-11T05:56:55.051795Z",
     "iopub.status.busy": "2022-07-11T05:56:55.051456Z",
     "iopub.status.idle": "2022-07-11T05:56:55.067136Z",
     "shell.execute_reply": "2022-07-11T05:56:55.066542Z"
    },
    "papermill": {
     "duration": 0.025115,
     "end_time": "2022-07-11T05:56:55.069219",
     "exception": false,
     "start_time": "2022-07-11T05:56:55.044104",
     "status": "completed"
    },
    "tags": []
   },
   "outputs": [],
   "source": [
    "# Reading the csv file\n",
    "df=pd.read_csv(\"../input/health-insurance-cost-prediction/insurance.csv\") #Actual Data"
   ]
  },
  {
   "cell_type": "code",
   "execution_count": 4,
   "id": "dd9ed0ce",
   "metadata": {
    "execution": {
     "iopub.execute_input": "2022-07-11T05:56:55.090622Z",
     "iopub.status.busy": "2022-07-11T05:56:55.089940Z",
     "iopub.status.idle": "2022-07-11T05:56:55.105443Z",
     "shell.execute_reply": "2022-07-11T05:56:55.104845Z"
    },
    "papermill": {
     "duration": 0.028201,
     "end_time": "2022-07-11T05:56:55.107301",
     "exception": false,
     "start_time": "2022-07-11T05:56:55.079100",
     "status": "completed"
    },
    "tags": []
   },
   "outputs": [
    {
     "data": {
      "text/html": [
       "<div>\n",
       "<style scoped>\n",
       "    .dataframe tbody tr th:only-of-type {\n",
       "        vertical-align: middle;\n",
       "    }\n",
       "\n",
       "    .dataframe tbody tr th {\n",
       "        vertical-align: top;\n",
       "    }\n",
       "\n",
       "    .dataframe thead th {\n",
       "        text-align: right;\n",
       "    }\n",
       "</style>\n",
       "<table border=\"1\" class=\"dataframe\">\n",
       "  <thead>\n",
       "    <tr style=\"text-align: right;\">\n",
       "      <th></th>\n",
       "      <th>age</th>\n",
       "      <th>sex</th>\n",
       "      <th>bmi</th>\n",
       "      <th>children</th>\n",
       "      <th>smoker</th>\n",
       "      <th>region</th>\n",
       "      <th>charges</th>\n",
       "    </tr>\n",
       "  </thead>\n",
       "  <tbody>\n",
       "    <tr>\n",
       "      <th>0</th>\n",
       "      <td>19</td>\n",
       "      <td>female</td>\n",
       "      <td>27.900</td>\n",
       "      <td>0</td>\n",
       "      <td>yes</td>\n",
       "      <td>southwest</td>\n",
       "      <td>16884.92400</td>\n",
       "    </tr>\n",
       "    <tr>\n",
       "      <th>1</th>\n",
       "      <td>18</td>\n",
       "      <td>male</td>\n",
       "      <td>33.770</td>\n",
       "      <td>1</td>\n",
       "      <td>no</td>\n",
       "      <td>southeast</td>\n",
       "      <td>1725.55230</td>\n",
       "    </tr>\n",
       "    <tr>\n",
       "      <th>2</th>\n",
       "      <td>28</td>\n",
       "      <td>male</td>\n",
       "      <td>33.000</td>\n",
       "      <td>3</td>\n",
       "      <td>no</td>\n",
       "      <td>southeast</td>\n",
       "      <td>4449.46200</td>\n",
       "    </tr>\n",
       "    <tr>\n",
       "      <th>3</th>\n",
       "      <td>33</td>\n",
       "      <td>male</td>\n",
       "      <td>22.705</td>\n",
       "      <td>0</td>\n",
       "      <td>no</td>\n",
       "      <td>northwest</td>\n",
       "      <td>21984.47061</td>\n",
       "    </tr>\n",
       "    <tr>\n",
       "      <th>4</th>\n",
       "      <td>32</td>\n",
       "      <td>male</td>\n",
       "      <td>28.880</td>\n",
       "      <td>0</td>\n",
       "      <td>no</td>\n",
       "      <td>northwest</td>\n",
       "      <td>3866.85520</td>\n",
       "    </tr>\n",
       "  </tbody>\n",
       "</table>\n",
       "</div>"
      ],
      "text/plain": [
       "   age     sex     bmi  children smoker     region      charges\n",
       "0   19  female  27.900         0    yes  southwest  16884.92400\n",
       "1   18    male  33.770         1     no  southeast   1725.55230\n",
       "2   28    male  33.000         3     no  southeast   4449.46200\n",
       "3   33    male  22.705         0     no  northwest  21984.47061\n",
       "4   32    male  28.880         0     no  northwest   3866.85520"
      ]
     },
     "execution_count": 4,
     "metadata": {},
     "output_type": "execute_result"
    }
   ],
   "source": [
    "df.head()"
   ]
  },
  {
   "cell_type": "code",
   "execution_count": 5,
   "id": "306a9430",
   "metadata": {
    "execution": {
     "iopub.execute_input": "2022-07-11T05:56:55.128805Z",
     "iopub.status.busy": "2022-07-11T05:56:55.128303Z",
     "iopub.status.idle": "2022-07-11T05:56:55.133941Z",
     "shell.execute_reply": "2022-07-11T05:56:55.132823Z"
    },
    "papermill": {
     "duration": 0.019179,
     "end_time": "2022-07-11T05:56:55.136627",
     "exception": false,
     "start_time": "2022-07-11T05:56:55.117448",
     "status": "completed"
    },
    "tags": []
   },
   "outputs": [
    {
     "data": {
      "text/plain": [
       "(1338, 7)"
      ]
     },
     "execution_count": 5,
     "metadata": {},
     "output_type": "execute_result"
    }
   ],
   "source": [
    "df.shape"
   ]
  },
  {
   "cell_type": "code",
   "execution_count": 6,
   "id": "1c6093e4",
   "metadata": {
    "execution": {
     "iopub.execute_input": "2022-07-11T05:56:55.158981Z",
     "iopub.status.busy": "2022-07-11T05:56:55.158369Z",
     "iopub.status.idle": "2022-07-11T05:56:55.165618Z",
     "shell.execute_reply": "2022-07-11T05:56:55.165071Z"
    },
    "papermill": {
     "duration": 0.020291,
     "end_time": "2022-07-11T05:56:55.167382",
     "exception": false,
     "start_time": "2022-07-11T05:56:55.147091",
     "status": "completed"
    },
    "tags": []
   },
   "outputs": [
    {
     "data": {
      "text/plain": [
       "age         0\n",
       "sex         0\n",
       "bmi         0\n",
       "children    0\n",
       "smoker      0\n",
       "region      0\n",
       "charges     0\n",
       "dtype: int64"
      ]
     },
     "execution_count": 6,
     "metadata": {},
     "output_type": "execute_result"
    }
   ],
   "source": [
    "df.isnull().sum()"
   ]
  },
  {
   "cell_type": "code",
   "execution_count": 7,
   "id": "fde57543",
   "metadata": {
    "execution": {
     "iopub.execute_input": "2022-07-11T05:56:55.189939Z",
     "iopub.status.busy": "2022-07-11T05:56:55.189176Z",
     "iopub.status.idle": "2022-07-11T05:56:55.194399Z",
     "shell.execute_reply": "2022-07-11T05:56:55.193403Z"
    },
    "papermill": {
     "duration": 0.019035,
     "end_time": "2022-07-11T05:56:55.196941",
     "exception": false,
     "start_time": "2022-07-11T05:56:55.177906",
     "status": "completed"
    },
    "tags": []
   },
   "outputs": [
    {
     "data": {
      "text/plain": [
       "Index(['age', 'sex', 'bmi', 'children', 'smoker', 'region', 'charges'], dtype='object')"
      ]
     },
     "execution_count": 7,
     "metadata": {},
     "output_type": "execute_result"
    }
   ],
   "source": [
    "df.columns"
   ]
  },
  {
   "cell_type": "code",
   "execution_count": 8,
   "id": "354bcc65",
   "metadata": {
    "execution": {
     "iopub.execute_input": "2022-07-11T05:56:55.220541Z",
     "iopub.status.busy": "2022-07-11T05:56:55.219457Z",
     "iopub.status.idle": "2022-07-11T05:56:55.248921Z",
     "shell.execute_reply": "2022-07-11T05:56:55.247727Z"
    },
    "papermill": {
     "duration": 0.042924,
     "end_time": "2022-07-11T05:56:55.250839",
     "exception": false,
     "start_time": "2022-07-11T05:56:55.207915",
     "status": "completed"
    },
    "tags": []
   },
   "outputs": [
    {
     "data": {
      "text/html": [
       "<div>\n",
       "<style scoped>\n",
       "    .dataframe tbody tr th:only-of-type {\n",
       "        vertical-align: middle;\n",
       "    }\n",
       "\n",
       "    .dataframe tbody tr th {\n",
       "        vertical-align: top;\n",
       "    }\n",
       "\n",
       "    .dataframe thead th {\n",
       "        text-align: right;\n",
       "    }\n",
       "</style>\n",
       "<table border=\"1\" class=\"dataframe\">\n",
       "  <thead>\n",
       "    <tr style=\"text-align: right;\">\n",
       "      <th></th>\n",
       "      <th>age</th>\n",
       "      <th>bmi</th>\n",
       "      <th>children</th>\n",
       "      <th>charges</th>\n",
       "    </tr>\n",
       "  </thead>\n",
       "  <tbody>\n",
       "    <tr>\n",
       "      <th>count</th>\n",
       "      <td>1338.000000</td>\n",
       "      <td>1338.000000</td>\n",
       "      <td>1338.000000</td>\n",
       "      <td>1338.000000</td>\n",
       "    </tr>\n",
       "    <tr>\n",
       "      <th>mean</th>\n",
       "      <td>39.207025</td>\n",
       "      <td>30.663397</td>\n",
       "      <td>1.094918</td>\n",
       "      <td>13270.422265</td>\n",
       "    </tr>\n",
       "    <tr>\n",
       "      <th>std</th>\n",
       "      <td>14.049960</td>\n",
       "      <td>6.098187</td>\n",
       "      <td>1.205493</td>\n",
       "      <td>12110.011237</td>\n",
       "    </tr>\n",
       "    <tr>\n",
       "      <th>min</th>\n",
       "      <td>18.000000</td>\n",
       "      <td>15.960000</td>\n",
       "      <td>0.000000</td>\n",
       "      <td>1121.873900</td>\n",
       "    </tr>\n",
       "    <tr>\n",
       "      <th>25%</th>\n",
       "      <td>27.000000</td>\n",
       "      <td>26.296250</td>\n",
       "      <td>0.000000</td>\n",
       "      <td>4740.287150</td>\n",
       "    </tr>\n",
       "    <tr>\n",
       "      <th>50%</th>\n",
       "      <td>39.000000</td>\n",
       "      <td>30.400000</td>\n",
       "      <td>1.000000</td>\n",
       "      <td>9382.033000</td>\n",
       "    </tr>\n",
       "    <tr>\n",
       "      <th>75%</th>\n",
       "      <td>51.000000</td>\n",
       "      <td>34.693750</td>\n",
       "      <td>2.000000</td>\n",
       "      <td>16639.912515</td>\n",
       "    </tr>\n",
       "    <tr>\n",
       "      <th>max</th>\n",
       "      <td>64.000000</td>\n",
       "      <td>53.130000</td>\n",
       "      <td>5.000000</td>\n",
       "      <td>63770.428010</td>\n",
       "    </tr>\n",
       "  </tbody>\n",
       "</table>\n",
       "</div>"
      ],
      "text/plain": [
       "               age          bmi     children       charges\n",
       "count  1338.000000  1338.000000  1338.000000   1338.000000\n",
       "mean     39.207025    30.663397     1.094918  13270.422265\n",
       "std      14.049960     6.098187     1.205493  12110.011237\n",
       "min      18.000000    15.960000     0.000000   1121.873900\n",
       "25%      27.000000    26.296250     0.000000   4740.287150\n",
       "50%      39.000000    30.400000     1.000000   9382.033000\n",
       "75%      51.000000    34.693750     2.000000  16639.912515\n",
       "max      64.000000    53.130000     5.000000  63770.428010"
      ]
     },
     "execution_count": 8,
     "metadata": {},
     "output_type": "execute_result"
    }
   ],
   "source": [
    "df.describe()"
   ]
  },
  {
   "cell_type": "code",
   "execution_count": 9,
   "id": "c19327df",
   "metadata": {
    "execution": {
     "iopub.execute_input": "2022-07-11T05:56:55.266045Z",
     "iopub.status.busy": "2022-07-11T05:56:55.265320Z",
     "iopub.status.idle": "2022-07-11T05:56:55.415768Z",
     "shell.execute_reply": "2022-07-11T05:56:55.414922Z"
    },
    "papermill": {
     "duration": 0.159847,
     "end_time": "2022-07-11T05:56:55.417627",
     "exception": false,
     "start_time": "2022-07-11T05:56:55.257780",
     "status": "completed"
    },
    "tags": []
   },
   "outputs": [
    {
     "data": {
      "image/png": "[encoded data removed]",
      "text/plain": [
       "<Figure size 360x360 with 1 Axes>"
      ]
     },
     "metadata": {
      "needs_background": "light"
     },
     "output_type": "display_data"
    }
   ],
   "source": [
    "plt.figure(figsize=(5,5))\n",
    "style.use('ggplot')\n",
    "sns.countplot(x='sex', data=df)\n",
    "plt.title('Gender Distribution')\n",
    "plt.show()"
   ]
  },
  {
   "cell_type": "code",
   "execution_count": 10,
   "id": "1fc08ef1",
   "metadata": {
    "execution": {
     "iopub.execute_input": "2022-07-11T05:56:55.433906Z",
     "iopub.status.busy": "2022-07-11T05:56:55.433381Z",
     "iopub.status.idle": "2022-07-11T05:56:55.547615Z",
     "shell.execute_reply": "2022-07-11T05:56:55.546804Z"
    },
    "papermill": {
     "duration": 0.124394,
     "end_time": "2022-07-11T05:56:55.549605",
     "exception": false,
     "start_time": "2022-07-11T05:56:55.425211",
     "status": "completed"
    },
    "tags": []
   },
   "outputs": [
    {
     "data": {
      "image/png": "[encoded data removed]",
      "text/plain": [
       "<Figure size 360x360 with 1 Axes>"
      ]
     },
     "metadata": {},
     "output_type": "display_data"
    }
   ],
   "source": [
    "plt.figure(figsize=(5,5))\n",
    "sns.countplot(x='smoker', data=df)\n",
    "plt.title('Smoker')\n",
    "plt.show()"
   ]
  },
  {
   "cell_type": "code",
   "execution_count": 11,
   "id": "5ecb592d",
   "metadata": {
    "execution": {
     "iopub.execute_input": "2022-07-11T05:56:55.571127Z",
     "iopub.status.busy": "2022-07-11T05:56:55.570560Z",
     "iopub.status.idle": "2022-07-11T05:56:55.684052Z",
     "shell.execute_reply": "2022-07-11T05:56:55.683236Z"
    },
    "papermill": {
     "duration": 0.126005,
     "end_time": "2022-07-11T05:56:55.685893",
     "exception": false,
     "start_time": "2022-07-11T05:56:55.559888",
     "status": "completed"
    },
    "tags": []
   },
   "outputs": [
    {
     "data": {
      "image/png": "[encoded data removed]",
      "text/plain": [
       "<Figure size 360x360 with 1 Axes>"
      ]
     },
     "metadata": {},
     "output_type": "display_data"
    }
   ],
   "source": [
    "plt.figure(figsize=(5,5))\n",
    "sns.countplot(x='smoker', data=df)\n",
    "plt.title('Smoker')\n",
    "plt.show()"
   ]
  },
  {
   "cell_type": "code",
   "execution_count": 12,
   "id": "5184b93d",
   "metadata": {
    "execution": {
     "iopub.execute_input": "2022-07-11T05:56:55.707696Z",
     "iopub.status.busy": "2022-07-11T05:56:55.707079Z",
     "iopub.status.idle": "2022-07-11T05:56:56.014453Z",
     "shell.execute_reply": "2022-07-11T05:56:56.013572Z"
    },
    "papermill": {
     "duration": 0.320603,
     "end_time": "2022-07-11T05:56:56.016423",
     "exception": false,
     "start_time": "2022-07-11T05:56:55.695820",
     "status": "completed"
    },
    "tags": []
   },
   "outputs": [
    {
     "data": {
      "text/plain": [
       "Text(0.5, 1.0, 'Cost vs Region')"
      ]
     },
     "execution_count": 12,
     "metadata": {},
     "output_type": "execute_result"
    },
    {
     "data": {
      "image/png": "[encoded data removed]",
      "text/plain": [
       "<Figure size 360x360 with 1 Axes>"
      ]
     },
     "metadata": {},
     "output_type": "display_data"
    }
   ],
   "source": [
    "plt.figure(figsize=(5,5))\n",
    "sns.barplot(x='region', y='charges', data=df)\n",
    "plt.title('Cost vs Region')"
   ]
  },
  {
   "cell_type": "code",
   "execution_count": 13,
   "id": "9447d836",
   "metadata": {
    "execution": {
     "iopub.execute_input": "2022-07-11T05:56:56.034888Z",
     "iopub.status.busy": "2022-07-11T05:56:56.034353Z",
     "iopub.status.idle": "2022-07-11T05:56:56.362340Z",
     "shell.execute_reply": "2022-07-11T05:56:56.361129Z"
    },
    "papermill": {
     "duration": 0.341964,
     "end_time": "2022-07-11T05:56:56.367185",
     "exception": false,
     "start_time": "2022-07-11T05:56:56.025221",
     "status": "completed"
    },
    "tags": []
   },
   "outputs": [
    {
     "data": {
      "text/plain": [
       "Text(0.5, 1.0, 'Charges for smokers')"
      ]
     },
     "execution_count": 13,
     "metadata": {},
     "output_type": "execute_result"
    },
    {
     "data": {
      "image/png": "[encoded data removed]",
      "text/plain": [
       "<Figure size 360x360 with 1 Axes>"
      ]
     },
     "metadata": {},
     "output_type": "display_data"
    }
   ],
   "source": [
    "plt.figure(figsize=(5,5))\n",
    "sns.barplot(x='sex', y='charges',hue='smoker', data=df)\n",
    "plt.title('Charges for smokers')"
   ]
  },
  {
   "cell_type": "code",
   "execution_count": 14,
   "id": "c6c1f42b",
   "metadata": {
    "execution": {
     "iopub.execute_input": "2022-07-11T05:56:56.395312Z",
     "iopub.status.busy": "2022-07-11T05:56:56.395010Z",
     "iopub.status.idle": "2022-07-11T05:56:56.945790Z",
     "shell.execute_reply": "2022-07-11T05:56:56.944704Z"
    },
    "papermill": {
     "duration": 0.566533,
     "end_time": "2022-07-11T05:56:56.947973",
     "exception": false,
     "start_time": "2022-07-11T05:56:56.381440",
     "status": "completed"
    },
    "tags": []
   },
   "outputs": [
    {
     "data": {
      "image/png": "[encoded data removed]",
      "text/plain": [
       "<Figure size 720x720 with 4 Axes>"
      ]
     },
     "metadata": {},
     "output_type": "display_data"
    }
   ],
   "source": [
    "df[['age','bmi','children','charges']].hist(bins=30, figsize=(10,10), color='blue')\n",
    "plt.show()"
   ]
  },
  {
   "cell_type": "code",
   "execution_count": 15,
   "id": "64dc52e0",
   "metadata": {
    "execution": {
     "iopub.execute_input": "2022-07-11T05:56:56.975151Z",
     "iopub.status.busy": "2022-07-11T05:56:56.974840Z",
     "iopub.status.idle": "2022-07-11T05:56:56.986983Z",
     "shell.execute_reply": "2022-07-11T05:56:56.985626Z"
    },
    "papermill": {
     "duration": 0.028208,
     "end_time": "2022-07-11T05:56:56.988961",
     "exception": false,
     "start_time": "2022-07-11T05:56:56.960753",
     "status": "completed"
    },
    "tags": []
   },
   "outputs": [
    {
     "data": {
      "text/html": [
       "<div>\n",
       "<style scoped>\n",
       "    .dataframe tbody tr th:only-of-type {\n",
       "        vertical-align: middle;\n",
       "    }\n",
       "\n",
       "    .dataframe tbody tr th {\n",
       "        vertical-align: top;\n",
       "    }\n",
       "\n",
       "    .dataframe thead th {\n",
       "        text-align: right;\n",
       "    }\n",
       "</style>\n",
       "<table border=\"1\" class=\"dataframe\">\n",
       "  <thead>\n",
       "    <tr style=\"text-align: right;\">\n",
       "      <th></th>\n",
       "      <th>age</th>\n",
       "      <th>sex</th>\n",
       "      <th>bmi</th>\n",
       "      <th>children</th>\n",
       "      <th>smoker</th>\n",
       "      <th>region</th>\n",
       "      <th>charges</th>\n",
       "    </tr>\n",
       "  </thead>\n",
       "  <tbody>\n",
       "    <tr>\n",
       "      <th>0</th>\n",
       "      <td>19</td>\n",
       "      <td>female</td>\n",
       "      <td>27.900</td>\n",
       "      <td>0</td>\n",
       "      <td>yes</td>\n",
       "      <td>southwest</td>\n",
       "      <td>16884.92400</td>\n",
       "    </tr>\n",
       "    <tr>\n",
       "      <th>1</th>\n",
       "      <td>18</td>\n",
       "      <td>male</td>\n",
       "      <td>33.770</td>\n",
       "      <td>1</td>\n",
       "      <td>no</td>\n",
       "      <td>southeast</td>\n",
       "      <td>1725.55230</td>\n",
       "    </tr>\n",
       "    <tr>\n",
       "      <th>2</th>\n",
       "      <td>28</td>\n",
       "      <td>male</td>\n",
       "      <td>33.000</td>\n",
       "      <td>3</td>\n",
       "      <td>no</td>\n",
       "      <td>southeast</td>\n",
       "      <td>4449.46200</td>\n",
       "    </tr>\n",
       "    <tr>\n",
       "      <th>3</th>\n",
       "      <td>33</td>\n",
       "      <td>male</td>\n",
       "      <td>22.705</td>\n",
       "      <td>0</td>\n",
       "      <td>no</td>\n",
       "      <td>northwest</td>\n",
       "      <td>21984.47061</td>\n",
       "    </tr>\n",
       "    <tr>\n",
       "      <th>4</th>\n",
       "      <td>32</td>\n",
       "      <td>male</td>\n",
       "      <td>28.880</td>\n",
       "      <td>0</td>\n",
       "      <td>no</td>\n",
       "      <td>northwest</td>\n",
       "      <td>3866.85520</td>\n",
       "    </tr>\n",
       "  </tbody>\n",
       "</table>\n",
       "</div>"
      ],
      "text/plain": [
       "   age     sex     bmi  children smoker     region      charges\n",
       "0   19  female  27.900         0    yes  southwest  16884.92400\n",
       "1   18    male  33.770         1     no  southeast   1725.55230\n",
       "2   28    male  33.000         3     no  southeast   4449.46200\n",
       "3   33    male  22.705         0     no  northwest  21984.47061\n",
       "4   32    male  28.880         0     no  northwest   3866.85520"
      ]
     },
     "execution_count": 15,
     "metadata": {},
     "output_type": "execute_result"
    }
   ],
   "source": [
    "df.head()"
   ]
  },
  {
   "cell_type": "code",
   "execution_count": 16,
   "id": "50ce7a77",
   "metadata": {
    "execution": {
     "iopub.execute_input": "2022-07-11T05:56:57.007883Z",
     "iopub.status.busy": "2022-07-11T05:56:57.007545Z",
     "iopub.status.idle": "2022-07-11T05:56:57.018346Z",
     "shell.execute_reply": "2022-07-11T05:56:57.017098Z"
    },
    "papermill": {
     "duration": 0.02219,
     "end_time": "2022-07-11T05:56:57.019990",
     "exception": false,
     "start_time": "2022-07-11T05:56:56.997800",
     "status": "completed"
    },
    "tags": []
   },
   "outputs": [],
   "source": [
    "df['sex'] = df['sex'].apply({'male':0, 'female':1}.get)\n",
    "df['smoker'] = df['smoker'].apply({'yes':1, 'no':0}.get)\n",
    "df['region'] = df['region'].apply({'southwest':1, 'southeast':2, 'northwest':3, 'northeast':4}.get)"
   ]
  },
  {
   "cell_type": "code",
   "execution_count": 17,
   "id": "2d97192e",
   "metadata": {
    "execution": {
     "iopub.execute_input": "2022-07-11T05:56:57.038549Z",
     "iopub.status.busy": "2022-07-11T05:56:57.038202Z",
     "iopub.status.idle": "2022-07-11T05:56:57.051084Z",
     "shell.execute_reply": "2022-07-11T05:56:57.049998Z"
    },
    "papermill": {
     "duration": 0.024161,
     "end_time": "2022-07-11T05:56:57.052735",
     "exception": false,
     "start_time": "2022-07-11T05:56:57.028574",
     "status": "completed"
    },
    "tags": []
   },
   "outputs": [
    {
     "data": {
      "text/html": [
       "<div>\n",
       "<style scoped>\n",
       "    .dataframe tbody tr th:only-of-type {\n",
       "        vertical-align: middle;\n",
       "    }\n",
       "\n",
       "    .dataframe tbody tr th {\n",
       "        vertical-align: top;\n",
       "    }\n",
       "\n",
       "    .dataframe thead th {\n",
       "        text-align: right;\n",
       "    }\n",
       "</style>\n",
       "<table border=\"1\" class=\"dataframe\">\n",
       "  <thead>\n",
       "    <tr style=\"text-align: right;\">\n",
       "      <th></th>\n",
       "      <th>age</th>\n",
       "      <th>sex</th>\n",
       "      <th>bmi</th>\n",
       "      <th>children</th>\n",
       "      <th>smoker</th>\n",
       "      <th>region</th>\n",
       "      <th>charges</th>\n",
       "    </tr>\n",
       "  </thead>\n",
       "  <tbody>\n",
       "    <tr>\n",
       "      <th>0</th>\n",
       "      <td>19</td>\n",
       "      <td>1</td>\n",
       "      <td>27.900</td>\n",
       "      <td>0</td>\n",
       "      <td>1</td>\n",
       "      <td>1</td>\n",
       "      <td>16884.92400</td>\n",
       "    </tr>\n",
       "    <tr>\n",
       "      <th>1</th>\n",
       "      <td>18</td>\n",
       "      <td>0</td>\n",
       "      <td>33.770</td>\n",
       "      <td>1</td>\n",
       "      <td>0</td>\n",
       "      <td>2</td>\n",
       "      <td>1725.55230</td>\n",
       "    </tr>\n",
       "    <tr>\n",
       "      <th>2</th>\n",
       "      <td>28</td>\n",
       "      <td>0</td>\n",
       "      <td>33.000</td>\n",
       "      <td>3</td>\n",
       "      <td>0</td>\n",
       "      <td>2</td>\n",
       "      <td>4449.46200</td>\n",
       "    </tr>\n",
       "    <tr>\n",
       "      <th>3</th>\n",
       "      <td>33</td>\n",
       "      <td>0</td>\n",
       "      <td>22.705</td>\n",
       "      <td>0</td>\n",
       "      <td>0</td>\n",
       "      <td>3</td>\n",
       "      <td>21984.47061</td>\n",
       "    </tr>\n",
       "    <tr>\n",
       "      <th>4</th>\n",
       "      <td>32</td>\n",
       "      <td>0</td>\n",
       "      <td>28.880</td>\n",
       "      <td>0</td>\n",
       "      <td>0</td>\n",
       "      <td>3</td>\n",
       "      <td>3866.85520</td>\n",
       "    </tr>\n",
       "  </tbody>\n",
       "</table>\n",
       "</div>"
      ],
      "text/plain": [
       "   age  sex     bmi  children  smoker  region      charges\n",
       "0   19    1  27.900         0       1       1  16884.92400\n",
       "1   18    0  33.770         1       0       2   1725.55230\n",
       "2   28    0  33.000         3       0       2   4449.46200\n",
       "3   33    0  22.705         0       0       3  21984.47061\n",
       "4   32    0  28.880         0       0       3   3866.85520"
      ]
     },
     "execution_count": 17,
     "metadata": {},
     "output_type": "execute_result"
    }
   ],
   "source": [
    "df.head()"
   ]
  },
  {
   "cell_type": "markdown",
   "id": "06b26697",
   "metadata": {
    "papermill": {
     "duration": 0.008619,
     "end_time": "2022-07-11T05:56:57.070577",
     "exception": false,
     "start_time": "2022-07-11T05:56:57.061958",
     "status": "completed"
    },
    "tags": []
   },
   "source": [
    "# **Training & Testing Phase**"
   ]
  },
  {
   "cell_type": "code",
   "execution_count": 18,
   "id": "9b940390",
   "metadata": {
    "execution": {
     "iopub.execute_input": "2022-07-11T05:56:57.090091Z",
     "iopub.status.busy": "2022-07-11T05:56:57.089742Z",
     "iopub.status.idle": "2022-07-11T05:56:57.095827Z",
     "shell.execute_reply": "2022-07-11T05:56:57.094876Z"
    },
    "papermill": {
     "duration": 0.018111,
     "end_time": "2022-07-11T05:56:57.097481",
     "exception": false,
     "start_time": "2022-07-11T05:56:57.079370",
     "status": "completed"
    },
    "tags": []
   },
   "outputs": [],
   "source": [
    "X = df.drop(['charges', 'sex'], axis=1)\n",
    "y = df.charges"
   ]
  },
  {
   "cell_type": "code",
   "execution_count": 19,
   "id": "e2be7580",
   "metadata": {
    "execution": {
     "iopub.execute_input": "2022-07-11T05:56:57.117003Z",
     "iopub.status.busy": "2022-07-11T05:56:57.116649Z",
     "iopub.status.idle": "2022-07-11T05:56:57.125469Z",
     "shell.execute_reply": "2022-07-11T05:56:57.124184Z"
    },
    "papermill": {
     "duration": 0.021611,
     "end_time": "2022-07-11T05:56:57.127909",
     "exception": false,
     "start_time": "2022-07-11T05:56:57.106298",
     "status": "completed"
    },
    "tags": []
   },
   "outputs": [
    {
     "name": "stdout",
     "output_type": "stream",
     "text": [
      "X_train shape:  (936, 5)\n",
      "X_test shape:  (402, 5)\n",
      "y_train shpae:  (936,)\n",
      "y_test shape:  (402,)\n"
     ]
    }
   ],
   "source": [
    "X_train, X_test, y_train, y_test = train_test_split(X,y, test_size=0.3, random_state=42)\n",
    "print(\"X_train shape: \", X_train.shape)\n",
    "print(\"X_test shape: \", X_test.shape)\n",
    "print(\"y_train shpae: \", y_train.shape)\n",
    "print(\"y_test shape: \", y_test.shape)"
   ]
  },
  {
   "cell_type": "code",
   "execution_count": 20,
   "id": "18823ae7",
   "metadata": {
    "execution": {
     "iopub.execute_input": "2022-07-11T05:56:57.158718Z",
     "iopub.status.busy": "2022-07-11T05:56:57.158408Z",
     "iopub.status.idle": "2022-07-11T05:56:57.162143Z",
     "shell.execute_reply": "2022-07-11T05:56:57.161511Z"
    },
    "papermill": {
     "duration": 0.020821,
     "end_time": "2022-07-11T05:56:57.163892",
     "exception": false,
     "start_time": "2022-07-11T05:56:57.143071",
     "status": "completed"
    },
    "tags": []
   },
   "outputs": [],
   "source": [
    "\n",
    "linreg = LinearRegression()"
   ]
  },
  {
   "cell_type": "code",
   "execution_count": 21,
   "id": "7b104a06",
   "metadata": {
    "execution": {
     "iopub.execute_input": "2022-07-11T05:56:57.192573Z",
     "iopub.status.busy": "2022-07-11T05:56:57.192266Z",
     "iopub.status.idle": "2022-07-11T05:56:57.215294Z",
     "shell.execute_reply": "2022-07-11T05:56:57.214507Z"
    },
    "papermill": {
     "duration": 0.040218,
     "end_time": "2022-07-11T05:56:57.217671",
     "exception": false,
     "start_time": "2022-07-11T05:56:57.177453",
     "status": "completed"
    },
    "tags": []
   },
   "outputs": [],
   "source": [
    "linreg.fit(X_train, y_train) #Fitting the data to the linera regression model\n",
    "pred = linreg.predict(X_test) #Storing the predicted value in pred variable , WE are doing the predication of x testdata"
   ]
  },
  {
   "cell_type": "code",
   "execution_count": 22,
   "id": "2e9e61de",
   "metadata": {
    "execution": {
     "iopub.execute_input": "2022-07-11T05:56:57.246359Z",
     "iopub.status.busy": "2022-07-11T05:56:57.245337Z",
     "iopub.status.idle": "2022-07-11T05:56:57.249826Z",
     "shell.execute_reply": "2022-07-11T05:56:57.249038Z"
    },
    "papermill": {
     "duration": 0.021092,
     "end_time": "2022-07-11T05:56:57.252044",
     "exception": false,
     "start_time": "2022-07-11T05:56:57.230952",
     "status": "completed"
    },
    "tags": []
   },
   "outputs": [],
   "source": [
    "from sklearn.metrics import r2_score"
   ]
  },
  {
   "cell_type": "code",
   "execution_count": 23,
   "id": "4f58e674",
   "metadata": {
    "execution": {
     "iopub.execute_input": "2022-07-11T05:56:57.279962Z",
     "iopub.status.busy": "2022-07-11T05:56:57.279619Z",
     "iopub.status.idle": "2022-07-11T05:56:57.284372Z",
     "shell.execute_reply": "2022-07-11T05:56:57.283584Z"
    },
    "papermill": {
     "duration": 0.021613,
     "end_time": "2022-07-11T05:56:57.286806",
     "exception": false,
     "start_time": "2022-07-11T05:56:57.265193",
     "status": "completed"
    },
    "tags": []
   },
   "outputs": [
    {
     "name": "stdout",
     "output_type": "stream",
     "text": [
      "R2 score:  0.7697211527941855\n"
     ]
    }
   ],
   "source": [
    "print(\"R2 score: \",(r2_score(y_test, pred)))"
   ]
  },
  {
   "cell_type": "code",
   "execution_count": 24,
   "id": "d47f04dc",
   "metadata": {
    "execution": {
     "iopub.execute_input": "2022-07-11T05:56:57.306714Z",
     "iopub.status.busy": "2022-07-11T05:56:57.306365Z",
     "iopub.status.idle": "2022-07-11T05:56:57.460858Z",
     "shell.execute_reply": "2022-07-11T05:56:57.459901Z"
    },
    "papermill": {
     "duration": 0.166508,
     "end_time": "2022-07-11T05:56:57.463075",
     "exception": false,
     "start_time": "2022-07-11T05:56:57.296567",
     "status": "completed"
    },
    "tags": []
   },
   "outputs": [
    {
     "data": {
      "image/png": "[encoded data removed]",
      "text/plain": [
       "<Figure size 432x288 with 1 Axes>"
      ]
     },
     "metadata": {},
     "output_type": "display_data"
    }
   ],
   "source": [
    "plt.scatter(y_test, pred)\n",
    "plt.xlabel('Y test')\n",
    "plt.ylabel('Y pred')\n",
    "plt.show()"
   ]
  },
  {
   "cell_type": "markdown",
   "id": "4ab183f9",
   "metadata": {
    "papermill": {
     "duration": 0.013562,
     "end_time": "2022-07-11T05:56:57.490509",
     "exception": false,
     "start_time": "2022-07-11T05:56:57.476947",
     "status": "completed"
    },
    "tags": []
   },
   "source": [
    "# **Now we have trained our model . Now we test the new data**"
   ]
  },
  {
   "cell_type": "code",
   "execution_count": 25,
   "id": "a2c871d7",
   "metadata": {
    "execution": {
     "iopub.execute_input": "2022-07-11T05:56:57.520767Z",
     "iopub.status.busy": "2022-07-11T05:56:57.520002Z",
     "iopub.status.idle": "2022-07-11T05:56:57.532886Z",
     "shell.execute_reply": "2022-07-11T05:56:57.531975Z"
    },
    "papermill": {
     "duration": 0.030369,
     "end_time": "2022-07-11T05:56:57.535039",
     "exception": false,
     "start_time": "2022-07-11T05:56:57.504670",
     "status": "completed"
    },
    "tags": []
   },
   "outputs": [
    {
     "data": {
      "text/html": [
       "<div>\n",
       "<style scoped>\n",
       "    .dataframe tbody tr th:only-of-type {\n",
       "        vertical-align: middle;\n",
       "    }\n",
       "\n",
       "    .dataframe tbody tr th {\n",
       "        vertical-align: top;\n",
       "    }\n",
       "\n",
       "    .dataframe thead th {\n",
       "        text-align: right;\n",
       "    }\n",
       "</style>\n",
       "<table border=\"1\" class=\"dataframe\">\n",
       "  <thead>\n",
       "    <tr style=\"text-align: right;\">\n",
       "      <th></th>\n",
       "      <th>age</th>\n",
       "      <th>bmi</th>\n",
       "      <th>children</th>\n",
       "      <th>smoker</th>\n",
       "      <th>region</th>\n",
       "    </tr>\n",
       "  </thead>\n",
       "  <tbody>\n",
       "    <tr>\n",
       "      <th>0</th>\n",
       "      <td>50</td>\n",
       "      <td>25</td>\n",
       "      <td>2</td>\n",
       "      <td>0</td>\n",
       "      <td>2</td>\n",
       "    </tr>\n",
       "  </tbody>\n",
       "</table>\n",
       "</div>"
      ],
      "text/plain": [
       "   age  bmi  children  smoker  region\n",
       "0   50   25         2       0       2"
      ]
     },
     "execution_count": 25,
     "metadata": {},
     "output_type": "execute_result"
    }
   ],
   "source": [
    "data = {'age':50, 'bmi':25, 'children':2, 'smoker':0, 'region':2} #Sample data\n",
    "index = [0] #Setting the data at index 0\n",
    "cust_df = pd.DataFrame(data, index)\n",
    "cust_df"
   ]
  },
  {
   "cell_type": "code",
   "execution_count": 26,
   "id": "1b2b2ea2",
   "metadata": {
    "execution": {
     "iopub.execute_input": "2022-07-11T05:56:57.564707Z",
     "iopub.status.busy": "2022-07-11T05:56:57.563949Z",
     "iopub.status.idle": "2022-07-11T05:56:57.573463Z",
     "shell.execute_reply": "2022-07-11T05:56:57.571947Z"
    },
    "papermill": {
     "duration": 0.027205,
     "end_time": "2022-07-11T05:56:57.576049",
     "exception": false,
     "start_time": "2022-07-11T05:56:57.548844",
     "status": "completed"
    },
    "tags": []
   },
   "outputs": [
    {
     "name": "stdout",
     "output_type": "stream",
     "text": [
      "The medical insurance cost of the new customer is:  [9579.86504857]\n"
     ]
    }
   ],
   "source": [
    "cost_pred = linreg.predict(cust_df)\n",
    "print(\"The medical insurance cost of the new customer is: \", cost_pred)"
   ]
  },
  {
   "cell_type": "code",
   "execution_count": 27,
   "id": "aef2ac9c",
   "metadata": {
    "execution": {
     "iopub.execute_input": "2022-07-11T05:56:57.608427Z",
     "iopub.status.busy": "2022-07-11T05:56:57.606443Z",
     "iopub.status.idle": "2022-07-11T05:56:57.620356Z",
     "shell.execute_reply": "2022-07-11T05:56:57.619391Z"
    },
    "papermill": {
     "duration": 0.031611,
     "end_time": "2022-07-11T05:56:57.622555",
     "exception": false,
     "start_time": "2022-07-11T05:56:57.590944",
     "status": "completed"
    },
    "tags": []
   },
   "outputs": [
    {
     "data": {
      "text/html": [
       "<div>\n",
       "<style scoped>\n",
       "    .dataframe tbody tr th:only-of-type {\n",
       "        vertical-align: middle;\n",
       "    }\n",
       "\n",
       "    .dataframe tbody tr th {\n",
       "        vertical-align: top;\n",
       "    }\n",
       "\n",
       "    .dataframe thead th {\n",
       "        text-align: right;\n",
       "    }\n",
       "</style>\n",
       "<table border=\"1\" class=\"dataframe\">\n",
       "  <thead>\n",
       "    <tr style=\"text-align: right;\">\n",
       "      <th></th>\n",
       "      <th>age</th>\n",
       "      <th>bmi</th>\n",
       "      <th>children</th>\n",
       "      <th>smoker</th>\n",
       "      <th>region</th>\n",
       "    </tr>\n",
       "  </thead>\n",
       "  <tbody>\n",
       "    <tr>\n",
       "      <th>0</th>\n",
       "      <td>50</td>\n",
       "      <td>25</td>\n",
       "      <td>2</td>\n",
       "      <td>1</td>\n",
       "      <td>2</td>\n",
       "    </tr>\n",
       "  </tbody>\n",
       "</table>\n",
       "</div>"
      ],
      "text/plain": [
       "   age  bmi  children  smoker  region\n",
       "0   50   25         2       1       2"
      ]
     },
     "execution_count": 27,
     "metadata": {},
     "output_type": "execute_result"
    }
   ],
   "source": [
    "# Another Data (where we have a smoker)\n",
    "data = {'age':50, 'bmi':25, 'children':2, 'smoker':1, 'region':2} #Sample data\n",
    "index = [0] #Setting the data at index 0\n",
    "cust_df = pd.DataFrame(data, index)\n",
    "cust_df"
   ]
  },
  {
   "cell_type": "code",
   "execution_count": 28,
   "id": "3eefa302",
   "metadata": {
    "execution": {
     "iopub.execute_input": "2022-07-11T05:56:57.654739Z",
     "iopub.status.busy": "2022-07-11T05:56:57.652815Z",
     "iopub.status.idle": "2022-07-11T05:56:57.661777Z",
     "shell.execute_reply": "2022-07-11T05:56:57.660189Z"
    },
    "papermill": {
     "duration": 0.026595,
     "end_time": "2022-07-11T05:56:57.663582",
     "exception": false,
     "start_time": "2022-07-11T05:56:57.636987",
     "status": "completed"
    },
    "tags": []
   },
   "outputs": [
    {
     "name": "stdout",
     "output_type": "stream",
     "text": [
      "The medical insurance cost of the new customer is:  [33206.92756082]\n"
     ]
    }
   ],
   "source": [
    "cost_pred = linreg.predict(cust_df)\n",
    "print(\"The medical insurance cost of the new customer is: \", cost_pred)"
   ]
  },
  {
   "cell_type": "code",
   "execution_count": null,
   "id": "ce214623",
   "metadata": {
    "papermill": {
     "duration": 0.009088,
     "end_time": "2022-07-11T05:56:57.682138",
     "exception": false,
     "start_time": "2022-07-11T05:56:57.673050",
     "status": "completed"
    },
    "tags": []
   },
   "outputs": [],
   "source": []
  }
 ],
 "metadata": {
  "kernelspec": {
   "display_name": "Python 3",
   "language": "python",
   "name": "python3"
  },
  "language_info": {
   "codemirror_mode": {
    "name": "ipython",
    "version": 3
   },
   "file_extension": ".py",
   "mimetype": "text/x-python",
   "name": "python",
   "nbconvert_exporter": "python",
   "pygments_lexer": "ipython3",
   "version": "3.7.12"
  },
  "papermill": {
   "default_parameters": {},
   "duration": 11.750985,
   "end_time": "2022-07-11T05:56:58.513147",
   "environment_variables": {},
   "exception": null,
   "input_path": "__notebook__.ipynb",
   "output_path": "__notebook__.ipynb",
   "parameters": {},
   "start_time": "2022-07-11T05:56:46.762162",
   "version": "2.3.4"
  }
 },
 "nbformat": 4,
 "nbformat_minor": 5
}
